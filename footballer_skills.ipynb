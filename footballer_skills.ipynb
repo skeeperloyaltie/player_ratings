{
 "cells": [
  {
   "cell_type": "markdown",
   "metadata": {},
   "source": [
    "# Software Development 1\n",
    "## Coursework 2\n",
    "### Last Updated: 15 November 2022 by Fakhreldin Saeed, Shekoufeh Rahimi and Arturo Araujo\n",
    "\n",
    "**The prestigious football club who originally hired our Software Development company is very pleased with the outcome and has requested an extension.** Taking the program that you have crafted for coursework 1, you are asked to add the following functionality (up to 72 points, depending on scoring an “Excellent” score in each rubric component):\n",
    "1.\tFunctions (8 points): Split and pack up your coursework 1 code into functions. The program must contain a main() function and at least two other functions called “calculate_rating()” and “calculate_salary()”.Use the main() function to call the other functions to receive the 6 player’s skill ratings, calculate the player’s score and their salary range.\n",
    "2.\tProgram expansion (8 points): Adjust your program to ask users to enter a player ID (2 digit number), name and date-of-birth (D.o.B) by sequence, before asking for the 6 skills from coursework 1 (speed, shooting, passing, defending, dribbling, physicality). D.o.B should be in ISO format YEAR-MONTH-DATE.\n",
    "3.\tLoop your code (8 points): Your program should use a loop to ask for the information of three players, or until the input for user ID is “end”. \n",
    "4.\tCalculate the players' overall ratings and store it for later use (2 points).\n",
    "5.\tCalculate the players' salary ranges and store it for later use (2 points).\n",
    "6.\tCalculate players' ages (8 points): According to each user’s year of birth, your program should calculate the age of the player and store it for later use. Hint: the library datetime can be used here to make your job easier.\n",
    "7.\tTabulate (8 points): Display a table that summarises the input data (ascending order with user ID) using the tabulate library. \n",
    "\n",
    "8.\tFile writing (8 points): Save the table into a new local file named “players.txt”\n",
    "9.\tMake sure that you a. Implement robust input validation for a player's ID, D.o.B., and ratings. Your program should give a warning that says \"The rating you entered was invalid\" for any input errors (6 points) b. Display use of appropriate data structures for storing player information (5 points) c. Display use of appropriate code structures for implementing the functionality (5 points)\n",
    "\n",
    "10.\tDistinction Advanced Function: Once everything in requirements 1-9 has been completed, for a distinction grade, extend your program with one more function called advanced(). This function should a.be a complimentary main() method that, instead of taking user input, uses the provided file as input. b.accept in its argument (filename) the name of the text file to read. c. read the user information record from the provided file “PlayerData.txt”, which contains player IDs, names, and date-of-births. The function should then use this data as the input for the program. d. call all the other functions used and produces a text file output (requirement 8)."
   ]
  },
  {
   "cell_type": "code",
   "execution_count": null,
   "metadata": {},
   "outputs": [],
   "source": [
    "# Name: Sai Ganesh Bongoni\n",
    "# Student ID: BON21542740\n",
    "# Date of last Update: Saturday, December 03 2022 19:48\n"
   ]
  },
  {
   "cell_type": "code",
   "execution_count": 29,
   "metadata": {},
   "outputs": [],
   "source": [
    "# Libraries needed\n",
    "from datetime import datetime, date\n",
    "from tabulate import tabulate\n",
    "import csv"
   ]
  },
  {
   "cell_type": "code",
   "execution_count": 16,
   "metadata": {},
   "outputs": [
    {
     "data": {
      "text/plain": [
       "23"
      ]
     },
     "execution_count": 16,
     "metadata": {},
     "output_type": "execute_result"
    }
   ],
   "source": [
    "# Get user ID's\n",
    "def get_ID(ID):\n",
    "    if len(str(ID)) > 2:\n",
    "        print('ID can only be 2 characters long')\n",
    "    elif not str(ID).isnumeric():\n",
    "        print('ID has to be interger')\n",
    "    else:\n",
    "        return ID\n",
    "# id = 23\n",
    "# get_ID(id)"
   ]
  },
  {
   "cell_type": "code",
   "execution_count": null,
   "metadata": {},
   "outputs": [],
   "source": [
    "# get user date of birth\n",
    "def getDOB(datebirth):\n",
    "    return (datetime.strptime(datebirth, '%Y-%m-%d').date())\n",
    "\n",
    "\n",
    "date_ = input('Enter date of birth')\n",
    "print(getDOB(date_))"
   ]
  },
  {
   "cell_type": "code",
   "execution_count": 49,
   "metadata": {},
   "outputs": [
    {
     "data": {
      "text/plain": [
       "22"
      ]
     },
     "execution_count": 49,
     "metadata": {},
     "output_type": "execute_result"
    }
   ],
   "source": [
    "# Calculate age\n",
    "def calc_Age(birthdate):\n",
    "    age = getDOB(birthdate)\n",
    "    today = date.today()\n",
    "    return today.year - age.year - \\\n",
    "        ((today.month, today.day) < (age.month, age.day))\n",
    "\n",
    "\n",
    "date_ = input('Enter date of birth')\n",
    "# getDOB(date_)\n",
    "calc_Age(date_)"
   ]
  },
  {
   "cell_type": "code",
   "execution_count": 68,
   "metadata": {},
   "outputs": [
    {
     "data": {
      "text/plain": [
       "12"
      ]
     },
     "execution_count": 68,
     "metadata": {},
     "output_type": "execute_result"
    }
   ],
   "source": [
    "def rating(ab):\n",
    "    if not str(ab).isnumeric():\n",
    "        print('Rating must be integer')\n",
    "    elif ab > 100:\n",
    "        print('Rating cannot be greater than 100 !!')\n",
    "    elif ab < 0:\n",
    "        print('Rating cannot be less than zero!!')\n",
    "    else:\n",
    "        return (ab)\n",
    "\n",
    "\n",
    "r = 12\n",
    "rating(r)"
   ]
  },
  {
   "cell_type": "code",
   "execution_count": 1,
   "metadata": {},
   "outputs": [],
   "source": [
    "def calculate_rating(speed, dribbling, passing,\n",
    "                     shooting, defending, physicality):\n",
    "    total_skills = rating(speed) + rating(shooting) + rating(physicality) \\\n",
    "        + rating(dribbling) + rating(defending) + rating(passing)\n",
    "    overal_rate = total_skills * (100/30)\n",
    "    return overal_rate"
   ]
  },
  {
   "cell_type": "code",
   "execution_count": 2,
   "metadata": {},
   "outputs": [],
   "source": [
    "def calculate_salary():\n",
    "    if calculate_rating() > 29 and calculate_rating() < 45:\n",
    "        salary = 400\n",
    "        return salary\n",
    "    elif calculate_rating() > 44 and calculate_rating() < 60:\n",
    "        salary = [500, 700]\n",
    "        return salary\n",
    "    elif calculate_rating() > 59 and calculate_rating() < 80:\n",
    "        salary = 700\n",
    "        return salary\n",
    "    elif calculate_rating() > 79 < 101:\n",
    "        salary = 1000\n",
    "        return salary\n",
    "    else:\n",
    "        print('Wrong overal rating !!')"
   ]
  },
  {
   "cell_type": "code",
   "execution_count": 34,
   "metadata": {},
   "outputs": [],
   "source": [
    "# player Age\n",
    "def player_age():\n",
    "    born = getDOB()\n",
    "    today = date.today()\n",
    "    return today.year - born.year -\\\n",
    "        ((today.month, today.day) < (born.month, born.day))"
   ]
  },
  {
   "cell_type": "code",
   "execution_count": 1,
   "metadata": {},
   "outputs": [],
   "source": [
    "# loop through the code\n",
    "def get_details():\n",
    "    players = []\n",
    "    player_data = True\n",
    "    while player_data:\n",
    "        player_id = str(input('Enter player ID: [xx] '))\n",
    "        player_name = str(input('Enter Player Name: '))\n",
    "        yy = int(input('Enter year: '))\n",
    "        d = int(input('Enter, day: '))\n",
    "        mo = int(input('Enter month: '))\n",
    "        birthdate = date(yy, mo, d)\n",
    "        speed = int(input('Enter Speed of Player: '))\n",
    "        dribbling = int(input('Enter Dribbling of Player: '))\n",
    "        passing = int(input('Enter passing of player: '))\n",
    "        shooting = int(input('Enter shooting of player: '))\n",
    "        defending = int(input('Enter defending of player: '))\n",
    "        physicality = int(input('Enter physicality of player: '))\n",
    "        players.append([player_id, player_name, birthdate, speed,\n",
    "                        shooting, passing, defending, dribbling, physicality])\n",
    "        if player_id == 'end':\n",
    "            player_data = False\n",
    "        elif len(players) < 3:\n",
    "            player_data = True\n",
    "        else:\n",
    "            player_data = False\n",
    "    # return ['Player ID\\tName\\t']"
   ]
  },
  {
   "cell_type": "code",
   "execution_count": 15,
   "metadata": {},
   "outputs": [
    {
     "name": "stdout",
     "output_type": "stream",
     "text": [
      "UID    Name     D.o.B         speed    shooting    passing    defending    dribbling    physicality\n",
      "-----  -------  ----------  -------  ----------  ---------  -----------  -----------  -------------\n",
      "21     Skeeper  2000-03-30       65          34         45           34           76             65\n",
      "23     Jason    1999-03-23       34          54         75           54           65             43\n",
      "18     Mary     1998-03-30       76           7         67          656           87             56\n",
      "S1     Weston   1997-04-21       76          87         56           45           76             85\n"
     ]
    }
   ],
   "source": [
    "def main():\n",
    "    players = []\n",
    "    header = ['UID', 'Name', 'D.o.B', 'speed', 'shooting',\n",
    "              'passing', 'defending', 'dribbling', 'physicality']\n",
    "    table_data = tabulate(players, headers=header)\n",
    "    return table_data\n",
    "\n",
    "\n",
    "main()"
   ]
  },
  {
   "cell_type": "code",
   "execution_count": 59,
   "metadata": {},
   "outputs": [],
   "source": [
    "header = ['name', 'area', 'country_code2', 'country_code3']\n",
    "data = ['Afghanistan', 652090, 'AF', 'AFG']\n",
    "\n",
    "with open('countries.txt', 'w', encoding='UTF8') as f:\n",
    "    writer = csv.writer(f)\n",
    "    # write the header\n",
    "    writer.writerow(header)\n",
    "    # write the data\n",
    "    writer.writerow(data)"
   ]
  },
  {
   "cell_type": "code",
   "execution_count": 64,
   "metadata": {},
   "outputs": [
    {
     "data": {
      "text/plain": [
       "[[10, 10], [10, 10], [10, 10]]"
      ]
     },
     "execution_count": 64,
     "metadata": {},
     "output_type": "execute_result"
    }
   ],
   "source": [
    "# Test function for main\n",
    "def get__():\n",
    "    c = []\n",
    "    p = True\n",
    "    while p:\n",
    "        g = 10\n",
    "        y = 10\n",
    "        c.append([g, y])\n",
    "        if len(c) < 3:\n",
    "            p = True\n",
    "        else:\n",
    "            p = False\n",
    "    with open('text.txt', 'w', encoding='UTF8') as f:\n",
    "        file = csv.writer(f)\n",
    "        file.writerow(['num1', 'num2'])\n",
    "        file.writerow([x for x in c])\n",
    "    return c\n",
    "\n",
    "\n",
    "get__()"
   ]
  },
  {
   "cell_type": "code",
   "execution_count": 19,
   "metadata": {},
   "outputs": [],
   "source": [
    "def Advanced(file):\n",
    "    players = []\n",
    "    player_data = True\n",
    "    while player_data:\n",
    "        player_id = str(input('Enter player ID: [xx] '))\n",
    "        player_name = str(input('Enter Player Name: '))\n",
    "        yy = int(input('Enter year: '))\n",
    "        d = int(input('Enter, day: '))\n",
    "        mo = int(input('Enter month: '))\n",
    "        birthdate = date(yy, mo, d)\n",
    "        speed = int(input('Enter Speed of Player: '))\n",
    "        dribbling = int(input('Enter Dribbling of Player: '))\n",
    "        passing = int(input('Enter passing of player: '))\n",
    "        shooting = int(input('Enter shooting of player: '))\n",
    "        defending = int(input('Enter defending of player: '))\n",
    "        physicality = int(input('Enter physicality of player: '))\n",
    "        players.append([player_id, player_name, birthdate, speed,\n",
    "                        shooting, passing, defending, dribbling, physicality])\n",
    "        if len(players) > 3:\n",
    "            player_data = False\n",
    "    header = ['UID', 'Name', 'D.o.B', 'speed', 'shooting',\n",
    "              'passing', 'defending', 'dribbling', 'physicality']\n",
    "    table_data = tabulate(players, headers=header)\n",
    "    with open(file, 'w') as f:\n",
    "        f.write(table_data)\n",
    "    return players\n",
    "\n",
    "\n",
    "Advanced('PlayerData.txt')\n"
   ]
  }
 ],
 "metadata": {
  "kernelspec": {
   "display_name": "Python 3.9.2 64-bit",
   "language": "python",
   "name": "python3"
  },
  "language_info": {
   "codemirror_mode": {
    "name": "ipython",
    "version": 3
   },
   "file_extension": ".py",
   "mimetype": "text/x-python",
   "name": "python",
   "nbconvert_exporter": "python",
   "pygments_lexer": "ipython3",
   "version": "3.9.2"
  },
  "vscode": {
   "interpreter": {
    "hash": "916dbcbb3f70747c44a77c7bcd40155683ae19c65e1c03b4aa3499c5328201f1"
   }
  }
 },
 "nbformat": 4,
 "nbformat_minor": 2
}
