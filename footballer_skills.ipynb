{
 "cells": [
  {
   "cell_type": "markdown",
   "metadata": {},
   "source": [
    "# Software Development 1\n",
    "## Coursework 2\n",
    "### Last Updated: 15 November 2022 by Fakhreldin Saeed, Shekoufeh Rahimi and Arturo Araujo\n",
    "\n",
    "**The prestigious football club who originally hired our Software Development company is very pleased with the outcome and has requested an extension.** Taking the program that you have crafted for coursework 1, you are asked to add the following functionality (up to 72 points, depending on scoring an “Excellent” score in each rubric component):\n",
    "1.\tFunctions (8 points): Split and pack up your coursework 1 code into functions. The program must contain a main() function and at least two other functions called “calculate_rating()” and “calculate_salary()”.Use the main() function to call the other functions to receive the 6 player’s skill ratings, calculate the player’s score and their salary range.\n",
    "2.\tProgram expansion (8 points): Adjust your program to ask users to enter a player ID (2 digit number), name and date-of-birth (D.o.B) by sequence, before asking for the 6 skills from coursework 1 (speed, shooting, passing, defending, dribbling, physicality). D.o.B should be in ISO format YEAR-MONTH-DATE.\n",
    "3.\tLoop your code (8 points): Your program should use a loop to ask for the information of three players, or until the input for user ID is “end”. \n",
    "4.\tCalculate the players' overall ratings and store it for later use (2 points).\n",
    "5.\tCalculate the players' salary ranges and store it for later use (2 points).\n",
    "6.\tCalculate players' ages (8 points): According to each user’s year of birth, your program should calculate the age of the player and store it for later use. Hint: the library datetime can be used here to make your job easier.\n",
    "7.\tTabulate (8 points): Display a table that summarises the input data (ascending order with user ID) using the tabulate library. \n",
    "\n",
    "8.\tFile writing (8 points): Save the table into a new local file named “players.txt”\n",
    "9.\tMake sure that you a. Implement robust input validation for a player's ID, D.o.B., and ratings. Your program should give a warning that says \"The rating you entered was invalid\" for any input errors (6 points) b. Display use of appropriate data structures for storing player information (5 points) c. Display use of appropriate code structures for implementing the functionality (5 points)\n",
    "\n",
    "10.\tDistinction Advanced Function: Once everything in requirements 1-9 has been completed, for a distinction grade, extend your program with one more function called advanced(). This function should a.be a complimentary main() method that, instead of taking user input, uses the provided file as input. b.accept in its argument (filename) the name of the text file to read. c. read the user information record from the provided file “PlayerData.txt”, which contains player IDs, names, and date-of-births. The function should then use this data as the input for the program. d. call all the other functions used and produces a text file output (requirement 8)."
   ]
  },
  {
   "cell_type": "code",
   "execution_count": null,
   "metadata": {},
   "outputs": [],
   "source": [
    "# Name: Sai Ganesh Bongoni\n",
    "# Student ID: BON21542740\n",
    "# Date of last Update: Saturday, December 03 2022 19:48\n"
   ]
  },
  {
   "cell_type": "code",
   "execution_count": 3,
   "metadata": {},
   "outputs": [],
   "source": [
    "# Libraries needed\n",
    "import sys\n",
    "from datetime import date\n",
    "from tabulate import tabulate\n",
    "import csv"
   ]
  },
  {
   "cell_type": "code",
   "execution_count": 1,
   "metadata": {},
   "outputs": [],
   "source": [
    "def calculate_rating(speed, dribbling, passing, shooting, defending, physicality):\n",
    "    total_skills = speed + shooting + physicality + dribbling + defending + passing\n",
    "    overal_rate = total_skills * (100/30)\n",
    "\n",
    "    return overal_rate"
   ]
  },
  {
   "cell_type": "code",
   "execution_count": 2,
   "metadata": {},
   "outputs": [],
   "source": [
    "def calculate_salary():\n",
    "    if calculate_rating() > 29 and calculate_rating() < 45:\n",
    "        salary = 400\n",
    "        return salary\n",
    "    elif calculate_rating() > 44 and calculate_rating() < 60:\n",
    "        salary = [500, 700]\n",
    "        return salary\n",
    "    elif calculate_rating() > 59 and calculate_rating() < 80:\n",
    "        salary = 700\n",
    "        return salary\n",
    "    elif calculate_rating() > 79 < 101:\n",
    "        salary = 1000\n",
    "        return salary\n",
    "    else:\n",
    "        print('Wrong overal rating !!')\n"
   ]
  },
  {
   "cell_type": "code",
   "execution_count": null,
   "metadata": {},
   "outputs": [],
   "source": [
    "# player ID details\n",
    "def get_player_ID(id):\n",
    "    return str(id)"
   ]
  },
  {
   "cell_type": "code",
   "execution_count": 18,
   "metadata": {},
   "outputs": [
    {
     "data": {
      "text/plain": [
       "22"
      ]
     },
     "execution_count": 18,
     "metadata": {},
     "output_type": "execute_result"
    }
   ],
   "source": [
    "# player Age\n",
    "def player_age(yy, mon, day):\n",
    "    born = date(yy, mon, day)\n",
    "    \n",
    "    today = date.today()\n",
    "    return today.year - born.year - ((today.month, today.day) < (born.month, born.day))"
   ]
  },
  {
   "cell_type": "code",
   "execution_count": 15,
   "metadata": {},
   "outputs": [
    {
     "name": "stdout",
     "output_type": "stream",
     "text": [
      "UID    Name     D.o.B         speed    shooting    passing    defending    dribbling    physicality\n",
      "-----  -------  ----------  -------  ----------  ---------  -----------  -----------  -------------\n",
      "21     Skeeper  2000-03-30       65          34         45           34           76             65\n",
      "23     Jason    1999-03-23       34          54         75           54           65             43\n",
      "18     Mary     1998-03-30       76           7         67          656           87             56\n",
      "S1     Weston   1997-04-21       76          87         56           45           76             85\n"
     ]
    }
   ],
   "source": [
    "def main():\n",
    "    players = []\n",
    "    player_data = True\n",
    "    while player_data:\n",
    "        player_id = str(input('Enter player ID: [xx] '))\n",
    "        player_name = str(input('Enter Player Name: '))\n",
    "        yy = int(input('Enter year: '))\n",
    "        d = int(input('Enter, day: '))\n",
    "        mo = int(input('Enter month: '))\n",
    "        birthdate = date(yy,mo,d)\n",
    "        speed = int(input('Enter Speed of Player: '))\n",
    "        dribbling = int(input('Enter Dribbling of Player: '))\n",
    "        passing = int(input('Enter passing of player: '))\n",
    "        shooting = int(input('Enter shooting of player: '))\n",
    "        defending = int(input('Enter defending of player: '))\n",
    "        physicality = int(input('Enter physicality of player: '))\n",
    "\n",
    "        players.append([player_id, player_name, birthdate, speed, shooting, passing, defending, dribbling, physicality])\n",
    "        \n",
    "        if len(players) > 2:\n",
    "            player_data = False\n",
    "\n",
    "    header = ['UID', 'Name', 'D.o.B', 'speed', 'shooting', 'passing', 'defending', 'dribbling', 'physicality']\n",
    "\n",
    "    table_data = tabulate(players, headers=header)  \n",
    "\n",
    "    return table_data \n",
    "\n",
    "main()    "
   ]
  },
  {
   "cell_type": "code",
   "execution_count": 19,
   "metadata": {},
   "outputs": [],
   "source": [
    "def Advanced(file):\n",
    "    players = []\n",
    "    player_data = True\n",
    "    while player_data:\n",
    "        player_id = str(input('Enter player ID: [xx] '))\n",
    "        player_name = str(input('Enter Player Name: '))\n",
    "        yy = int(input('Enter year: '))\n",
    "        d = int(input('Enter, day: '))\n",
    "        mo = int(input('Enter month: '))\n",
    "        birthdate = date(yy,mo,d)\n",
    "        speed = int(input('Enter Speed of Player: '))\n",
    "        dribbling = int(input('Enter Dribbling of Player: '))\n",
    "        passing = int(input('Enter passing of player: '))\n",
    "        shooting = int(input('Enter shooting of player: '))\n",
    "        defending = int(input('Enter defending of player: '))\n",
    "        physicality = int(input('Enter physicality of player: '))\n",
    "\n",
    "        players.append([player_id, player_name, birthdate, speed, shooting, passing, defending, dribbling, physicality])\n",
    "        \n",
    "        if len(players) > 3:\n",
    "            player_data = False\n",
    "\n",
    "    header = ['UID', 'Name', 'D.o.B', 'speed', 'shooting', 'passing', 'defending', 'dribbling', 'physicality']\n",
    "\n",
    "    table_data = tabulate(players, headers=header)\n",
    "    with open(file, 'w') as f:\n",
    "        f.write(table_data)\n",
    "\n",
    "    \n",
    "\n",
    "Advanced('PlayerData.txt')\n"
   ]
  }
 ],
 "metadata": {
  "kernelspec": {
   "display_name": "Python 3.9.2 64-bit",
   "language": "python",
   "name": "python3"
  },
  "language_info": {
   "codemirror_mode": {
    "name": "ipython",
    "version": 3
   },
   "file_extension": ".py",
   "mimetype": "text/x-python",
   "name": "python",
   "nbconvert_exporter": "python",
   "pygments_lexer": "ipython3",
   "version": "3.9.2"
  },
  "vscode": {
   "interpreter": {
    "hash": "916dbcbb3f70747c44a77c7bcd40155683ae19c65e1c03b4aa3499c5328201f1"
   }
  }
 },
 "nbformat": 4,
 "nbformat_minor": 2
}
